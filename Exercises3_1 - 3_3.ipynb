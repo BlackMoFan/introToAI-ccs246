{
 "cells": [
  {
   "cell_type": "markdown",
   "id": "a1e2463b",
   "metadata": {},
   "source": [
    "# Exercise 3.1"
   ]
  },
  {
   "cell_type": "code",
   "execution_count": 185,
   "id": "e286760b",
   "metadata": {},
   "outputs": [
    {
     "name": "stdout",
     "output_type": "stream",
     "text": [
      "1.\t10 * 5 = 50\n",
      "\n"
     ]
    }
   ],
   "source": [
    "# 1. Multiply 10 with 5, and print the result.\n",
    "print(\"1.\\t{} * {} = {}\\n\".format(10, 5, 10 * 5))"
   ]
  },
  {
   "cell_type": "code",
   "execution_count": 186,
   "id": "8f8458ae",
   "metadata": {},
   "outputs": [
    {
     "name": "stdout",
     "output_type": "stream",
     "text": [
      "2.\t10 / 2 = 5.0\n",
      "\n"
     ]
    }
   ],
   "source": [
    "# 2. Divide 10 by 2, and print the result.\n",
    "print(\"2.\\t{} / {} = {}\\n\".format(10, 2, 10 / 2))"
   ]
  },
  {
   "cell_type": "code",
   "execution_count": 187,
   "id": "950b8fd7",
   "metadata": {},
   "outputs": [
    {
     "name": "stdout",
     "output_type": "stream",
     "text": [
      "\t ['apple', 'banana']\n",
      "3.\tYes, apple is a fruit!\n",
      "\n"
     ]
    }
   ],
   "source": [
    "# 3. Use the correct membership operator to check if \"apple\" is present in the fruit\n",
    "fruits = [\"apple\", \"banana\"]\n",
    "print(\"\\t\", fruits) #prints the list\n",
    "if \"apple\" in fruits: #membership operator 'in' to check if the object is present in the list\n",
    "    print(\"3.\\tYes, apple is a fruit!\\n\")"
   ]
  },
  {
   "cell_type": "code",
   "execution_count": 188,
   "id": "669d35ef",
   "metadata": {},
   "outputs": [
    {
     "name": "stdout",
     "output_type": "stream",
     "text": [
      "4.\t5 and 10 are not equal\n",
      "\n"
     ]
    }
   ],
   "source": [
    "# 4. Use the correct comparison operator to check if 5 is not equal to 10.\n",
    "if 5 != 10: #!= means 'not equal to'\n",
    "    print(\"4.\\t5 and 10 are not equal\\n\")"
   ]
  },
  {
   "cell_type": "code",
   "execution_count": 189,
   "id": "b05bdc8c",
   "metadata": {},
   "outputs": [
    {
     "name": "stdout",
     "output_type": "stream",
     "text": [
      "5.\tAt least one of the statements is true\n",
      "\n"
     ]
    }
   ],
   "source": [
    "# 5. Use the correct logical operator to check if at least one of two statements is\n",
    "if 5 == 10 or 4 == 4: #the logical operator 'or' evaluates to true if at least one of the operands is true\n",
    "    print(\"5.\\tAt least one of the statements is true\\n\")"
   ]
  },
  {
   "cell_type": "code",
   "execution_count": 190,
   "id": "a3029af0",
   "metadata": {},
   "outputs": [
    {
     "name": "stdout",
     "output_type": "stream",
     "text": [
      "\t ['apple', 'banana', 'cherry']\n",
      "6.\tfruits[1] = banana\n",
      "\n"
     ]
    }
   ],
   "source": [
    "# 6. Print the second item in the fruits list.\n",
    "fruits = [\"apple\", \"banana\", \"cherry\"]\n",
    "print(\"\\t\", fruits) #prints the list\n",
    "print(\"6.\\tfruits[{}] = {}\\n\".format(1, fruits[1])) #prints the second item which is at index 1, following the zeroth law"
   ]
  },
  {
   "cell_type": "code",
   "execution_count": 191,
   "id": "e9344da9",
   "metadata": {},
   "outputs": [
    {
     "name": "stdout",
     "output_type": "stream",
     "text": [
      "\t ['apple', 'banana', 'cherry']\n",
      "7.\tfruits[0] = \"kiwi\"\n",
      "\t ['kiwi', 'banana', 'cherry'] \n",
      "\n"
     ]
    }
   ],
   "source": [
    "# 7. Change the value from \"apple\" to \"kiwi\", in the fruits list.\n",
    "fruits = [\"apple\", \"banana\", \"cherry\"]\n",
    "print(\"\\t\", fruits) #prints the list before modification\n",
    "fruits[0] = \"kiwi\" #reassigning a new value to the item at index 0\n",
    "print(\"7.\\tfruits[{}] = \\\"{}\\\"\".format(0, \"kiwi\"))\n",
    "print(\"\\t\", fruits, \"\\n\") #prints the modified list"
   ]
  },
  {
   "cell_type": "code",
   "execution_count": 192,
   "id": "3677a903",
   "metadata": {},
   "outputs": [
    {
     "name": "stdout",
     "output_type": "stream",
     "text": [
      "\t ['apple', 'banana', 'cherry']\n",
      "8.\tfruits.append()\n",
      "\t ['apple', 'banana', 'cherry', 'orange'] \n",
      "\n"
     ]
    }
   ],
   "source": [
    "# 8. Use the append method to add \"orange\" to the fruits list.\n",
    "fruits = [\"apple\", \"banana\", \"cherry\"]\n",
    "print(\"\\t\", fruits) #prints the list prior to modification\n",
    "fruits.append(\"orange\") #the .append method of a list appends what is inside the parentheses to the end of the list\n",
    "print(\"8.\\tfruits.append(\"\")\".format(\"orange\"))\n",
    "print(\"\\t\", fruits, \"\\n\") #prints the appended list"
   ]
  },
  {
   "cell_type": "code",
   "execution_count": 193,
   "id": "103e5d77",
   "metadata": {},
   "outputs": [
    {
     "name": "stdout",
     "output_type": "stream",
     "text": [
      "\t ['apple', 'banana', 'cherry']\n",
      "9.\tfruits.insert(1, \"lemon\")\n",
      "\t ['apple', 'lemon', 'banana', 'cherry'] \n",
      "\n"
     ]
    }
   ],
   "source": [
    "# 9. Use the insert method to add \"lemon\" as the second item in the fruits list.\n",
    "fruits = [\"apple\", \"banana\", \"cherry\"]\n",
    "print(\"\\t\", fruits) #prints the list before insertion\n",
    "fruits.insert(1, \"lemon\") #the .insert method inserts the second parameter to the index specified in the first param\n",
    "print(\"9.\\tfruits.insert({}, \\\"{}\\\")\".format(1, \"lemon\"))\n",
    "print(\"\\t\", fruits, \"\\n\") #prints the modified list\n"
   ]
  },
  {
   "cell_type": "code",
   "execution_count": 194,
   "id": "76d828df",
   "metadata": {},
   "outputs": [
    {
     "name": "stdout",
     "output_type": "stream",
     "text": [
      "\t ['apple', 'banana', 'cherry']\n",
      "10.\tfruits.remove(\"banana\")\n",
      "\t ['apple', 'cherry'] \n",
      "\n"
     ]
    }
   ],
   "source": [
    "#10. Use the remove method to remove \"banana\" from the fruits list.\n",
    "fruits = [\"apple\", \"banana\", \"cherry\"]\n",
    "print(\"\\t\", fruits) #prints the list\n",
    "fruits.remove(\"banana\") #the .remove method removes any instance of the object inside the parentheses on which it is called\n",
    "print(\"10.\\tfruits.remove(\\\"{}\\\")\".format(\"banana\"))\n",
    "print(\"\\t\", fruits, \"\\n\") #prints the modified list"
   ]
  },
  {
   "cell_type": "markdown",
   "id": "f013d70a",
   "metadata": {},
   "source": [
    "# Exercise 3.2"
   ]
  },
  {
   "cell_type": "code",
   "execution_count": 195,
   "id": "cf7cfccf",
   "metadata": {},
   "outputs": [
    {
     "name": "stdout",
     "output_type": "stream",
     "text": [
      "1.\tx = 5\n",
      "\tx is an int\n",
      "\tx = float(x)\n",
      "\tx = 5.0 is a float\n"
     ]
    }
   ],
   "source": [
    "# 1. Insert the correct syntax to convert x into a decimal number.\n",
    "x = 5\n",
    "print(\"1.\\tx = {}\".format(x)) #prints the value of x\n",
    "print(\"\\tx is a{} {}\".format(\"\" if type(x).__name__ == \"float\" or type(x).__name__ == \"complex\" else \"n\", type(x).__name__)) #prints the type of x\n",
    "x = float(x) #explicitly typecasting x to float\n",
    "print(\"\\tx = float(x)\")\n",
    "print(\"\\tx = {} is a{} {}\".format(x, \"\" if type(x).__name__ == \"float\" or type(x).__name__ == \"complex\" else \"n\", type(x).__name__)) #prints the type of x"
   ]
  },
  {
   "cell_type": "code",
   "execution_count": 196,
   "id": "651990b3",
   "metadata": {},
   "outputs": [
    {
     "name": "stdout",
     "output_type": "stream",
     "text": [
      "2.\tx = 5.5\n",
      "\tx is a float\n",
      "\tx = int(x)\n",
      "\tx = 5 is an int\n"
     ]
    }
   ],
   "source": [
    "# 2. Insert the correct syntax to convert x into a integer.\n",
    "x = 5.5\n",
    "print(\"2.\\tx = {}\".format(x)) #prints the value of x\n",
    "print(\"\\tx is a{} {}\".format(\"\" if type(x).__name__ == \"float\" or type(x).__name__ == \"complex\" else \"n\", type(x).__name__)) #prints the type of x\n",
    "x = int(x) #explicitly typecasting x to int\n",
    "print(\"\\tx = int(x)\")\n",
    "print(\"\\tx = {} is a{} {}\".format(x, \"\" if type(x).__name__ == \"float\" or type(x).__name__ == \"complex\" else \"n\", type(x).__name__)) #prints the type of x"
   ]
  },
  {
   "cell_type": "code",
   "execution_count": 197,
   "id": "d96c1dae",
   "metadata": {},
   "outputs": [
    {
     "name": "stdout",
     "output_type": "stream",
     "text": [
      "3.\tx = 5\n",
      "\tx is an int\n",
      "\tx = complex(x)\n",
      "\tx = (5+0j) is a complex\n",
      "\n"
     ]
    }
   ],
   "source": [
    "# 3. Insert the correct syntax to convert x into a complex number.\n",
    "x = 5\n",
    "print(\"3.\\tx = {}\".format(x)) #prints the value of x\n",
    "print(\"\\tx is a{} {}\".format(\"\" if type(x).__name__ == \"float\" or type(x).__name__ == \"complex\" else \"n\", type(x).__name__)) #prints the type of x\n",
    "x = complex(x) #explicitly typecasting x to complex\n",
    "print(\"\\tx = complex(x)\")\n",
    "print(\"\\tx = {} is a{} {}\".format(x, \"\" if type(x).__name__ == \"float\" or type(x).__name__ == \"complex\" else \"n\", type(x).__name__)) #prints the type of x\n",
    "print()"
   ]
  },
  {
   "cell_type": "markdown",
   "id": "06ce9758",
   "metadata": {},
   "source": [
    "# Exercise 3.3"
   ]
  },
  {
   "cell_type": "code",
   "execution_count": 198,
   "id": "1049fbf4",
   "metadata": {},
   "outputs": [],
   "source": [
    "#Write a Python program to create an array of 5 integers and display the array items. \n",
    "#Access individual element through indexes.\n",
    "import numpy as np #importing numpy module\n",
    "\n",
    "arrayOfInts = np.array([3,6,9,42,77]) #declaration and initialization of array"
   ]
  },
  {
   "cell_type": "code",
   "execution_count": 199,
   "id": "a61e373a",
   "metadata": {},
   "outputs": [
    {
     "name": "stdout",
     "output_type": "stream",
     "text": [
      "1.\tarrayOfInts = [3, 6, 9, 42, 77]\n",
      "\tPrinting out array items\n",
      "\t 3\n",
      "\t 6\n",
      "\t 9\n",
      "\t 42\n",
      "\t 77\n",
      "\tPrint individual elements by index using range() and len()\n",
      "\tarrayOfInts[0] = 3\n",
      "\tarrayOfInts[1] = 6\n",
      "\tarrayOfInts[2] = 9\n",
      "\tarrayOfInts[3] = 42\n",
      "\tarrayOfInts[4] = 77\n"
     ]
    }
   ],
   "source": [
    "print(\"1.\", end=\"\")\n",
    "def displayArray(arr): #function declaration\n",
    "    print(\"\\tarrayOfInts = {}\".format(list(arr)))\n",
    "    print(\"\\tPrinting out array items\")\n",
    "    for item in arr:\n",
    "        print(\"\\t\", item)\n",
    "    print(\"\\tPrint individual elements by index using range() and len()\")\n",
    "    for index in range(len(arr)):\n",
    "        print(\"\\tarrayOfInts[{}] = {}\".format(index, arr[index]))\n",
    "\n",
    "displayArray(arrayOfInts) #calling the function"
   ]
  },
  {
   "cell_type": "code",
   "execution_count": 200,
   "id": "0544cb47",
   "metadata": {},
   "outputs": [
    {
     "name": "stdout",
     "output_type": "stream",
     "text": [
      "2.\tarrayOfInts after appending 99 - [3, 6, 9, 42, 77, 99]\n"
     ]
    }
   ],
   "source": [
    "#2. Write a Python program to append a new item to the end of the array.\n",
    "valueToAppend = 99\n",
    "def toAppend(arr, var): #function that would take in the array and the value to append\n",
    "    return np.append(arr, var)\n",
    "    \n",
    "arr = toAppend(arrayOfInts, valueToAppend) #call the function, appending 99 to arrayOfInts\n",
    "print(\"2.\\tarrayOfInts after appending {} - {}\".format(valueToAppend, list(arr)))"
   ]
  },
  {
   "cell_type": "code",
   "execution_count": 201,
   "id": "cfd5e2fb",
   "metadata": {},
   "outputs": [
    {
     "name": "stdout",
     "output_type": "stream",
     "text": [
      "3.\tarrayOfInts after reversing - [77, 42, 9, 6, 3]\n"
     ]
    }
   ],
   "source": [
    "#3. Write a Python program to reverse the order of the items in the array.\n",
    "def toReverse(arr):\n",
    "    return arr[::-1]\n",
    "    \n",
    "arr = toReverse(arrayOfInts) #call the function to reverse the elements of array\n",
    "print(\"3.\\tarrayOfInts after reversing - {}\".format(list(arr)))"
   ]
  },
  {
   "cell_type": "code",
   "execution_count": 202,
   "id": "c859e0d6",
   "metadata": {},
   "outputs": [
    {
     "name": "stdout",
     "output_type": "stream",
     "text": [
      "4.\tLength of one array item element in bytes - 8\n"
     ]
    }
   ],
   "source": [
    "#4. Write a Python program to get the length in bytes of one array item in the internal representation.\n",
    "def getByteLength(arr):\n",
    "    return arr.itemsize\n",
    "    \n",
    "arr = getByteLength(arrayOfInts) #call the function that returns the byte size of an item in the array\n",
    "print(\"4.\\tLength of one array item element in bytes - {}\".format(arr))"
   ]
  },
  {
   "cell_type": "code",
   "execution_count": 203,
   "id": "e46b3102",
   "metadata": {},
   "outputs": [
    {
     "name": "stdout",
     "output_type": "stream",
     "text": [
      "5.\tarrayOfInts after inserting 0 at index 0 - [0, 3, 6, 9, 42, 77]\n"
     ]
    }
   ],
   "source": [
    "#5. Write a Python program to insert a new item before the second element in an existing array.\n",
    "insertIndex = 0\n",
    "insertValue = 0\n",
    "def insertItem(arr, index ,item):\n",
    "    return np.insert(arr, index, item)\n",
    "\n",
    "arr = insertItem(arrayOfInts, insertIndex, insertValue) #call function to insert value in array\n",
    "print(\"5.\\tarrayOfInts after inserting {} at index {} - {}\".format(insertValue, insertIndex, list(arr)))"
   ]
  }
 ],
 "metadata": {
  "kernelspec": {
   "display_name": "Python 3 (ipykernel)",
   "language": "python",
   "name": "python3"
  },
  "language_info": {
   "codemirror_mode": {
    "name": "ipython",
    "version": 3
   },
   "file_extension": ".py",
   "mimetype": "text/x-python",
   "name": "python",
   "nbconvert_exporter": "python",
   "pygments_lexer": "ipython3",
   "version": "3.8.5"
  }
 },
 "nbformat": 4,
 "nbformat_minor": 5
}
